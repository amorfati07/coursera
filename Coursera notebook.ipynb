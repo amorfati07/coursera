{
    "cells": [
        {
            "metadata": {},
            "cell_type": "code",
            "source": "from pandas import DataFrame\nimport pandas as pd\ndata =[[\"\uc804\uae30\uc804\uc790\",\"005930\",\"\uc0bc\uc131\uc804\uc790\",74400],\n       [\"\ud654\ud559\",\"05910\",\"LG\ud654\ud559\",896000]\n      ]\ncolumns = [\"\uc5c5\uc885\",\"\uc885\ubaa9\ucf54\ub4dc\",\"\uc885\ubaa9\uba85\",\"\ud604\uc7ac\uac00\"]\ndf1 = DataFrame(data=data,columns=columns)\ndf1",
            "execution_count": 2,
            "outputs": [
                {
                    "output_type": "execute_result",
                    "execution_count": 2,
                    "data": {
                        "text/plain": "     \uc5c5\uc885    \uc885\ubaa9\ucf54\ub4dc   \uc885\ubaa9\uba85     \ud604\uc7ac\uac00\n0  \uc804\uae30\uc804\uc790  005930  \uc0bc\uc131\uc804\uc790   74400\n1    \ud654\ud559   05910  LG\ud654\ud559  896000",
                        "text/html": "<div>\n<style scoped>\n    .dataframe tbody tr th:only-of-type {\n        vertical-align: middle;\n    }\n\n    .dataframe tbody tr th {\n        vertical-align: top;\n    }\n\n    .dataframe thead th {\n        text-align: right;\n    }\n</style>\n<table border=\"1\" class=\"dataframe\">\n  <thead>\n    <tr style=\"text-align: right;\">\n      <th></th>\n      <th>\uc5c5\uc885</th>\n      <th>\uc885\ubaa9\ucf54\ub4dc</th>\n      <th>\uc885\ubaa9\uba85</th>\n      <th>\ud604\uc7ac\uac00</th>\n    </tr>\n  </thead>\n  <tbody>\n    <tr>\n      <th>0</th>\n      <td>\uc804\uae30\uc804\uc790</td>\n      <td>005930</td>\n      <td>\uc0bc\uc131\uc804\uc790</td>\n      <td>74400</td>\n    </tr>\n    <tr>\n      <th>1</th>\n      <td>\ud654\ud559</td>\n      <td>05910</td>\n      <td>LG\ud654\ud559</td>\n      <td>896000</td>\n    </tr>\n  </tbody>\n</table>\n</div>"
                    },
                    "metadata": {}
                }
            ]
        },
        {
            "metadata": {},
            "cell_type": "code",
            "source": "",
            "execution_count": null,
            "outputs": []
        }
    ],
    "metadata": {
        "kernelspec": {
            "name": "python3",
            "display_name": "Python 3.9",
            "language": "python"
        },
        "language_info": {
            "name": "python",
            "version": "3.9.12",
            "mimetype": "text/x-python",
            "codemirror_mode": {
                "name": "ipython",
                "version": 3
            },
            "pygments_lexer": "ipython3",
            "nbconvert_exporter": "python",
            "file_extension": ".py"
        }
    },
    "nbformat": 4,
    "nbformat_minor": 1
}