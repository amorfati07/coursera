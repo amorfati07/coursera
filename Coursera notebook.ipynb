{
    "cells": [
        {
            "metadata": {},
            "cell_type": "markdown",
            "source": "# My Jupyter Notebook on IBM Watson Studio"
        },
        {
            "metadata": {},
            "cell_type": "markdown",
            "source": "**Youngnam Lim**"
        },
        {
            "metadata": {},
            "cell_type": "markdown",
            "source": "*I am interested in data science because  it's useful for my work*"
        },
        {
            "metadata": {},
            "cell_type": "markdown",
            "source": "### Adding 1 to 9"
        },
        {
            "metadata": {},
            "cell_type": "code",
            "source": "print(sum([i for i in range(10)]))",
            "execution_count": 5,
            "outputs": [
                {
                    "output_type": "stream",
                    "text": "45\n",
                    "name": "stdout"
                }
            ]
        },
        {
            "metadata": {},
            "cell_type": "markdown",
            "source": "***\nHorizontal rules\n***\n* This is a bullet list\n* This is a bullet list\n1. This is a numbered list\n1. This is a numbered list\n![Markdown Logo is here.](https://www.fullstackpython.com/img/logos/markdown.png)"
        },
        {
            "metadata": {},
            "cell_type": "code",
            "source": "",
            "execution_count": null,
            "outputs": []
        }
    ],
    "metadata": {
        "kernelspec": {
            "name": "python3",
            "display_name": "Python 3.9",
            "language": "python"
        },
        "language_info": {
            "name": "python",
            "version": "3.9.12",
            "mimetype": "text/x-python",
            "codemirror_mode": {
                "name": "ipython",
                "version": 3
            },
            "pygments_lexer": "ipython3",
            "nbconvert_exporter": "python",
            "file_extension": ".py"
        }
    },
    "nbformat": 4,
    "nbformat_minor": 1
}